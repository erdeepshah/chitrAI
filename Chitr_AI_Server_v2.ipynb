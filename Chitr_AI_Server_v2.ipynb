{
  "cells": [
    {
      "cell_type": "markdown",
      "metadata": {
        "id": "view-in-github",
        "colab_type": "text"
      },
      "source": [
        "<a href=\"https://colab.research.google.com/github/erdeepshah/chitrAI/blob/main/Chitr_AI_Server_v2.ipynb\" target=\"_parent\"><img src=\"https://colab.research.google.com/assets/colab-badge.svg\" alt=\"Open In Colab\"/></a>"
      ]
    },
    {
      "cell_type": "code",
      "execution_count": null,
      "metadata": {
        "cellView": "form",
        "colab": {
          "background_save": true
        },
        "id": "Y9s0v3X1G6fQ"
      },
      "outputs": [],
      "source": [
        "#@title Enter your Unique ID and press play button to start the server\n",
        "UniqueID = \"abcdefghijkl\" #@param {type:\"string\"}\n",
        "\n",
        "try:\n",
        "    import requests\n",
        "    fileurl = 'https://api.chitrai.com/file/'+str(UniqueID)\n",
        "    res = requests.get(fileurl)\n",
        "\n",
        "    if(res.status_code==200):\n",
        "        if(res.content != b''):\n",
        "          with open(\"server.pyc\", \"wb\") as sers:\n",
        "              sers.write(res.content)\n",
        "          print('\\033[48;2;9;121;105m'+\"Preparing for server startup\"+'\\033[0m')\n",
        "\n",
        "          import server\n",
        "          server.startserver(UniqueID)\n",
        "\n",
        "        else:\n",
        "          print('\\033[48;2;128;0;32m'+\"Something went wrong, retry after sometime\"+'\\033[0m')\n",
        "          print('\\033[48;2;128;0;32m'+\"Copy the new Unique ID and restart the server if session is expired on webpage\"+'\\033[0m')\n",
        "    else:\n",
        "        raise Exception(f\"Error with status code: {res.status_code}\")\n",
        "except Exception as e:\n",
        "    print(f\"Error: {e}\")\n",
        "    print('\\033[48;2;128;0;32m'+\"Exception raised, please restart the server\"+'\\033[0m')\n",
        "    print('\\033[48;2;128;0;32m'+\"Server stopped\"+'\\033[0m')\n"
      ]
    }
  ],
  "metadata": {
    "accelerator": "GPU",
    "colab": {
      "provenance": [],
      "include_colab_link": true
    },
    "kernelspec": {
      "display_name": "Python 3",
      "name": "python3"
    },
    "language_info": {
      "name": "python"
    }
  },
  "nbformat": 4,
  "nbformat_minor": 0
}